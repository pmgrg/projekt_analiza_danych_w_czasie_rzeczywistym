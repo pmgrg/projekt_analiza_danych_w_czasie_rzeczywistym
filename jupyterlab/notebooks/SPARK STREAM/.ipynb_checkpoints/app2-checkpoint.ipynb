{
 "cells": [
  {
   "cell_type": "markdown",
   "id": "07672793-8095-452e-a6fa-56feb261e389",
   "metadata": {},
   "source": [
    "\n",
    "## Input Sources\n",
    "\n",
    "Spark Streaming ingests data from different types of input sources for processing in real-time\n",
    "\n",
    "**Rate (for Testing)**: It will automatically generate data including 2 columns timestamp and value . This is generally used for testing purposes.\n",
    "\n",
    "**Socket (for Testing)**: This data source will listen to the specified socket and ingest any data into Spark Streaming. It is also used only for testing purposes.\n",
    "\n",
    "**File**: This will listen to a particular directory as streaming data. It supports file formats like CSV, JSON, ORC, and Parquet.\n",
    "\n",
    "**Kafka**: This will read data from Apache Kafka® and is compatible with Kafka broker versions 0.10.0 or higher"
   ]
  },
  {
   "cell_type": "code",
   "execution_count": null,
   "id": "9f18e001-6249-4b41-b506-014dceb93731",
   "metadata": {
    "tags": []
   },
   "outputs": [],
   "source": [
    "from pyspark.sql import SparkSession\n",
    "from pyspark.sql import functions as f\n",
    "\n",
    "spark = SparkSession\\\n",
    "        .builder\\\n",
    "        .master(\"local\")\\\n",
    "        .appName(\"SocketSource\")\\\n",
    "        .getOrCreate()\n",
    "\n",
    "spark.sparkContext.setLogLevel(\"ERROR\")"
   ]
  },
  {
   "cell_type": "code",
   "execution_count": null,
   "id": "d89c058a-863f-408f-94d2-ce40f00e3f05",
   "metadata": {
    "tags": []
   },
   "outputs": [],
   "source": [
    "# Define host and port number to Listen.\n",
    "HOST = \"127.0.0.1\"\n",
    "PORT = \"9999\"\n",
    "\n",
    "# Create Streaming DataFrame by reading data from socket.\n",
    "initDF = spark\\\n",
    "         .readStream\\\n",
    "         .format(\"socket\")\\\n",
    "         .option(\"host\", HOST)\\\n",
    "         .option(\"port\", PORT)\\\n",
    "         .load()\n",
    "\n",
    "# Check if DataFrame is streaming or Not.\n",
    "print(f\"Streaming DataFrame : {initDF.isStreaming}\")"
   ]
  },
  {
   "cell_type": "markdown",
   "id": "fbdb863d-1d5f-404f-ab49-90539ebc5854",
   "metadata": {},
   "source": [
    "We use the socket format to read data from a socket (127.0.0.1:9999). You can use any arbitrary permitted port to listen."
   ]
  },
  {
   "cell_type": "code",
   "execution_count": null,
   "id": "f2fdace4-2fc2-4bca-a919-e27eaf4551dd",
   "metadata": {
    "tags": []
   },
   "outputs": [],
   "source": [
    "# Perform word count on streaming DataFrame\n",
    "wordCount = initDF\\\n",
    "    .select(f.explode(f.split(f.col(\"value\"), \" \")).alias(\"words\"))\\\n",
    "    .groupBy(\"words\").count()\n",
    "\n",
    "# Print Schema of DataFrame\n",
    "print(\"Schema of DataFame wordCount.\")\n",
    "print(f\"{wordCount.printSchema()}\")"
   ]
  },
  {
   "cell_type": "code",
   "execution_count": null,
   "id": "b70572b5-83ad-4d16-abee-79ec0e2b4874",
   "metadata": {
    "tags": []
   },
   "outputs": [],
   "source": [
    "wordCount\\\n",
    "  .writeStream\\\n",
    "  .outputMode(\"update\")\\\n",
    "  .option(\"truncate\", False)\\\n",
    "  .format(\"console\")\\\n",
    "  .start()\\\n",
    "  .awaitTermination()"
   ]
  }
 ],
 "metadata": {
  "kernelspec": {
   "display_name": "Python 3 (ipykernel)",
   "language": "python",
   "name": "python3"
  },
  "language_info": {
   "codemirror_mode": {
    "name": "ipython",
    "version": 3
   },
   "file_extension": ".py",
   "mimetype": "text/x-python",
   "name": "python",
   "nbconvert_exporter": "python",
   "pygments_lexer": "ipython3",
   "version": "3.10.10"
  }
 },
 "nbformat": 4,
 "nbformat_minor": 5
}
